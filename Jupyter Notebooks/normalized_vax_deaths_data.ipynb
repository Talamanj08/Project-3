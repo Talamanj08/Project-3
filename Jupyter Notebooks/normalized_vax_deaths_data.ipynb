{
 "cells": [
  {
   "cell_type": "code",
   "execution_count": 1,
   "id": "aa8eb137",
   "metadata": {},
   "outputs": [],
   "source": [
    "import pandas as pd\n",
    "from pathlib import Path"
   ]
  },
  {
   "cell_type": "code",
   "execution_count": 2,
   "id": "9def6755",
   "metadata": {},
   "outputs": [],
   "source": [
    "vax_2021_path= Path(r'C:\\Users\\Owner\\Documents\\Data Boot Camp\\Projects\\Project 3\\Project-3\\Vaxx DataFrames\\Vax_byState_2021.csv')\n",
    "vax_2022_path= Path(r'C:\\Users\\Owner\\Documents\\Data Boot Camp\\Projects\\Project 3\\Project-3\\Vaxx DataFrames\\Vax_byState_2022.csv')\n",
    "Deaths_2021_path = Path(r'C:\\Users\\Owner\\Documents\\Data Boot Camp\\Projects\\Project 3\\Project-3\\Death DataFrames\\Death_byState_2021.csv')\n",
    "Deaths_2022_path = Path(r'C:\\Users\\Owner\\Documents\\Data Boot Camp\\Projects\\Project 3\\Project-3\\Death DataFrames\\Death_byState_2022.csv')"
   ]
  },
  {
   "cell_type": "code",
   "execution_count": 3,
   "id": "3a64265e",
   "metadata": {},
   "outputs": [],
   "source": [
    "# Clean up and sum vax data\n",
    "vax_2021_df =pd.read_csv(vax_2021_path, encoding=\"ISO-8859-1\") \n",
    "vax_2022_df =pd.read_csv(vax_2022_path, encoding=\"ISO-8859-1\") \n",
    "\n",
    "# Calculate the sums\n",
    "total_dose_1_administered_2021 = vax_2021_df[\"Dose_1_Administered\"].sum()\n",
    "total_series_completed_2021 = vax_2021_df[\"Series_Completed\"].sum()\n",
    "total_dose_1_administered_2022 = vax_2022_df[\"Dose_1_Administered\"].sum()\n",
    "total_series_completed_2022 = vax_2022_df[\"Series_Completed\"].sum()\n",
    "\n",
    "# Create a new DataFrame with totals\n",
    "total_vax_2021 = pd.DataFrame({\n",
    "    \"Year\": [2021],\n",
    "    \"total_dose_1_administered\": [total_dose_1_administered_2021],\n",
    "    \"total_series_completed\": [total_series_completed_2021]\n",
    "})\n",
    "\n",
    "total_vax_2022 = pd.DataFrame({\n",
    "    \"Year\": [2022],\n",
    "    \"total_dose_1_administered\": [total_dose_1_administered_2022],\n",
    "    \"total_series_completed\": [total_series_completed_2022]\n",
    "})\n",
    "# Change column data types to int64\n",
    "total_vax_2021[\"total_dose_1_administered\"] = total_vax_2021[\"total_dose_1_administered\"].astype('int64')\n",
    "total_vax_2021[\"total_series_completed\"] = total_vax_2021[\"total_series_completed\"].astype('int64')"
   ]
  },
  {
   "cell_type": "code",
   "execution_count": null,
   "id": "45b44b8a",
   "metadata": {},
   "outputs": [],
   "source": []
  },
  {
   "cell_type": "code",
   "execution_count": 4,
   "id": "72f90311",
   "metadata": {},
   "outputs": [],
   "source": [
    "# Clean up and sum Death data\n",
    "death_2021_df =pd.read_csv(Deaths_2021_path, encoding=\"ISO-8859-1\") \n",
    "death_2022_df =pd.read_csv(Deaths_2022_path, encoding=\"ISO-8859-1\") \n",
    "\n",
    "# Calculate the sums\n",
    "deaths_2021_sum = death_2021_df[\"COVID-19 Deaths\"].sum()\n",
    "deaths_2022_sum = death_2022_df[\"COVID-19 Deaths\"].sum()\n",
    "\n",
    "# Create a new DataFrame with totals\n",
    "total_deaths_2021 = pd.DataFrame({\n",
    "    \"Year\": [2021],\n",
    "    \"total_covid_19_deaths\": [deaths_2021_sum]\n",
    "})\n",
    "total_deaths_2022 = pd.DataFrame({\n",
    "    \"Year\": [2022],\n",
    "    \"total_covid_19_deaths\": [deaths_2022_sum]\n",
    "})\n"
   ]
  },
  {
   "cell_type": "code",
   "execution_count": 5,
   "id": "5b9cc6ce",
   "metadata": {},
   "outputs": [
    {
     "name": "stdout",
     "output_type": "stream",
     "text": [
      "   Year  total_dose_1_administered  total_series_completed\n",
      "0  2021                  223873284               190450936\n",
      "   Year  total_dose_1_administered  total_series_completed\n",
      "0  2022                  249497421               213677767\n",
      "   Year  total_covid_19_deaths\n",
      "0  2021               451913.0\n",
      "   Year  total_covid_19_deaths\n",
      "0  2022               238744.0\n"
     ]
    }
   ],
   "source": [
    "print(total_vax_2021)\n",
    "print(total_vax_2022)\n",
    "print(total_deaths_2021)\n",
    "print(total_deaths_2022)"
   ]
  },
  {
   "cell_type": "code",
   "execution_count": 6,
   "id": "87afca5f",
   "metadata": {},
   "outputs": [],
   "source": [
    "# Create the total_vaxs_vs_deaths_2021 and total_vaxs_vs_deaths_2022 DataFrames\n",
    "total_vaxs_vs_deaths_2021 = pd.DataFrame({\n",
    "    \"Year\": [2021],\n",
    "    \"total_dose_1_administered\": total_vax_2021[\"total_dose_1_administered\"],\n",
    "    \"total_series_completed\": total_vax_2021[\"total_series_completed\"],\n",
    "    \"total_covid_19_deaths\": total_deaths_2021[\"total_covid_19_deaths\"].astype('int64')\n",
    "})\n",
    "\n",
    "total_vaxs_vs_deaths_2022 = pd.DataFrame({\n",
    "    \"Year\": [2022],\n",
    "    \"total_dose_1_administered\": total_vax_2022[\"total_dose_1_administered\"],\n",
    "    \"total_series_completed\": total_vax_2022[\"total_series_completed\"],\n",
    "    \"total_covid_19_deaths\": total_deaths_2022[\"total_covid_19_deaths\"].astype('int64')\n",
    "})\n"
   ]
  },
  {
   "cell_type": "code",
   "execution_count": 7,
   "id": "41ae318c",
   "metadata": {},
   "outputs": [
    {
     "data": {
      "text/html": [
       "<div>\n",
       "<style scoped>\n",
       "    .dataframe tbody tr th:only-of-type {\n",
       "        vertical-align: middle;\n",
       "    }\n",
       "\n",
       "    .dataframe tbody tr th {\n",
       "        vertical-align: top;\n",
       "    }\n",
       "\n",
       "    .dataframe thead th {\n",
       "        text-align: right;\n",
       "    }\n",
       "</style>\n",
       "<table border=\"1\" class=\"dataframe\">\n",
       "  <thead>\n",
       "    <tr style=\"text-align: right;\">\n",
       "      <th></th>\n",
       "      <th>Year</th>\n",
       "      <th>total_dose_1_administered</th>\n",
       "      <th>total_series_completed</th>\n",
       "      <th>total_covid_19_deaths</th>\n",
       "    </tr>\n",
       "  </thead>\n",
       "  <tbody>\n",
       "    <tr>\n",
       "      <th>0</th>\n",
       "      <td>2021</td>\n",
       "      <td>223873284</td>\n",
       "      <td>190450936</td>\n",
       "      <td>451913</td>\n",
       "    </tr>\n",
       "  </tbody>\n",
       "</table>\n",
       "</div>"
      ],
      "text/plain": [
       "   Year  total_dose_1_administered  total_series_completed  \\\n",
       "0  2021                  223873284               190450936   \n",
       "\n",
       "   total_covid_19_deaths  \n",
       "0                 451913  "
      ]
     },
     "execution_count": 7,
     "metadata": {},
     "output_type": "execute_result"
    }
   ],
   "source": [
    "total_vaxs_vs_deaths_2021\n"
   ]
  },
  {
   "cell_type": "code",
   "execution_count": 8,
   "id": "8f370037",
   "metadata": {},
   "outputs": [
    {
     "data": {
      "text/html": [
       "<div>\n",
       "<style scoped>\n",
       "    .dataframe tbody tr th:only-of-type {\n",
       "        vertical-align: middle;\n",
       "    }\n",
       "\n",
       "    .dataframe tbody tr th {\n",
       "        vertical-align: top;\n",
       "    }\n",
       "\n",
       "    .dataframe thead th {\n",
       "        text-align: right;\n",
       "    }\n",
       "</style>\n",
       "<table border=\"1\" class=\"dataframe\">\n",
       "  <thead>\n",
       "    <tr style=\"text-align: right;\">\n",
       "      <th></th>\n",
       "      <th>Year</th>\n",
       "      <th>total_dose_1_administered</th>\n",
       "      <th>total_series_completed</th>\n",
       "      <th>total_covid_19_deaths</th>\n",
       "    </tr>\n",
       "  </thead>\n",
       "  <tbody>\n",
       "    <tr>\n",
       "      <th>0</th>\n",
       "      <td>2022</td>\n",
       "      <td>249497421</td>\n",
       "      <td>213677767</td>\n",
       "      <td>238744</td>\n",
       "    </tr>\n",
       "  </tbody>\n",
       "</table>\n",
       "</div>"
      ],
      "text/plain": [
       "   Year  total_dose_1_administered  total_series_completed  \\\n",
       "0  2022                  249497421               213677767   \n",
       "\n",
       "   total_covid_19_deaths  \n",
       "0                 238744  "
      ]
     },
     "execution_count": 8,
     "metadata": {},
     "output_type": "execute_result"
    }
   ],
   "source": [
    "total_vaxs_vs_deaths_2022"
   ]
  },
  {
   "cell_type": "code",
   "execution_count": 11,
   "id": "a50b552e",
   "metadata": {},
   "outputs": [],
   "source": [
    "total_vaxs_vs_deaths_2021.to_csv('C:/Users/Owner/Documents/Data Boot Camp/Projects/Project 3/total_vaxs_vs_deaths_2021.csv', index=False, encoding='ISO-8859-1')\n",
    "total_vaxs_vs_deaths_2022.to_csv('C:/Users/Owner/Documents/Data Boot Camp/Projects/Project 3/total_vaxs_vs_deaths_2022.csv', index=False, encoding='ISO-8859-1')"
   ]
  },
  {
   "cell_type": "code",
   "execution_count": null,
   "id": "5c8547f4",
   "metadata": {},
   "outputs": [],
   "source": []
  },
  {
   "cell_type": "code",
   "execution_count": null,
   "id": "2cc6bb6f",
   "metadata": {},
   "outputs": [],
   "source": []
  }
 ],
 "metadata": {
  "kernelspec": {
   "display_name": "Python 3 (ipykernel)",
   "language": "python",
   "name": "python3"
  },
  "language_info": {
   "codemirror_mode": {
    "name": "ipython",
    "version": 3
   },
   "file_extension": ".py",
   "mimetype": "text/x-python",
   "name": "python",
   "nbconvert_exporter": "python",
   "pygments_lexer": "ipython3",
   "version": "3.10.10"
  }
 },
 "nbformat": 4,
 "nbformat_minor": 5
}
