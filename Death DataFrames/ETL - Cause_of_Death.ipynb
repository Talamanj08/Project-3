{
 "cells": [
  {
   "cell_type": "code",
   "execution_count": 1,
   "id": "3f0f182a",
   "metadata": {},
   "outputs": [],
   "source": [
    "import pandas as pd \n",
    "from pathlib import Path"
   ]
  },
  {
   "cell_type": "code",
   "execution_count": 2,
   "id": "4a07a672",
   "metadata": {},
   "outputs": [],
   "source": [
    "# Set path\n",
    "file_path = Path('C:/Users/Mason/Project-3/Death DataFrames/Cause_of_death_All_Years.csv')"
   ]
  },
  {
   "cell_type": "code",
   "execution_count": 3,
   "id": "058fcf42",
   "metadata": {},
   "outputs": [],
   "source": [
    "# Read csv\n",
    "cause_df = pd.read_csv(file_path, encoding=\"ISO-8859-1\") "
   ]
  },
  {
   "cell_type": "code",
   "execution_count": 4,
   "id": "584f096d",
   "metadata": {},
   "outputs": [
    {
     "data": {
      "text/html": [
       "<div>\n",
       "<style scoped>\n",
       "    .dataframe tbody tr th:only-of-type {\n",
       "        vertical-align: middle;\n",
       "    }\n",
       "\n",
       "    .dataframe tbody tr th {\n",
       "        vertical-align: top;\n",
       "    }\n",
       "\n",
       "    .dataframe thead th {\n",
       "        text-align: right;\n",
       "    }\n",
       "</style>\n",
       "<table border=\"1\" class=\"dataframe\">\n",
       "  <thead>\n",
       "    <tr style=\"text-align: right;\">\n",
       "      <th></th>\n",
       "      <th>Group</th>\n",
       "      <th>Year</th>\n",
       "      <th>State</th>\n",
       "      <th>Sex</th>\n",
       "      <th>Age Group</th>\n",
       "      <th>COVID-19 Deaths</th>\n",
       "      <th>Total Deaths</th>\n",
       "      <th>Pneumonia Deaths</th>\n",
       "      <th>Pneumonia and COVID-19 Deaths</th>\n",
       "      <th>Influenza Deaths</th>\n",
       "      <th>Pneumonia, Influenza, or COVID-19 Deaths</th>\n",
       "    </tr>\n",
       "  </thead>\n",
       "  <tbody>\n",
       "    <tr>\n",
       "      <th>0</th>\n",
       "      <td>By Total</td>\n",
       "      <td>NaN</td>\n",
       "      <td>United States</td>\n",
       "      <td>All Sexes</td>\n",
       "      <td>All Ages</td>\n",
       "      <td>1135308.0</td>\n",
       "      <td>11505885.0</td>\n",
       "      <td>1119592.0</td>\n",
       "      <td>564905.0</td>\n",
       "      <td>21867.0</td>\n",
       "      <td>1709403.0</td>\n",
       "    </tr>\n",
       "  </tbody>\n",
       "</table>\n",
       "</div>"
      ],
      "text/plain": [
       "      Group  Year          State        Sex Age Group  COVID-19 Deaths  \\\n",
       "0  By Total   NaN  United States  All Sexes  All Ages        1135308.0   \n",
       "\n",
       "   Total Deaths  Pneumonia Deaths  Pneumonia and COVID-19 Deaths  \\\n",
       "0    11505885.0         1119592.0                       564905.0   \n",
       "\n",
       "   Influenza Deaths  Pneumonia, Influenza, or COVID-19 Deaths  \n",
       "0           21867.0                                 1709403.0  "
      ]
     },
     "execution_count": 4,
     "metadata": {},
     "output_type": "execute_result"
    }
   ],
   "source": [
    "# View DataFrame\n",
    "cause_df.head()"
   ]
  },
  {
   "cell_type": "code",
   "execution_count": 5,
   "id": "5c096de7",
   "metadata": {},
   "outputs": [],
   "source": [
    "# Drop unnecessary columns\n",
    "columns_drop = [\"Group\", \"Year\", \"Sex\", \"Age Group\"]\n",
    "cause_df = cause_df.drop(columns = columns_drop)"
   ]
  },
  {
   "cell_type": "code",
   "execution_count": 6,
   "id": "9f4e039a",
   "metadata": {},
   "outputs": [
    {
     "data": {
      "text/html": [
       "<div>\n",
       "<style scoped>\n",
       "    .dataframe tbody tr th:only-of-type {\n",
       "        vertical-align: middle;\n",
       "    }\n",
       "\n",
       "    .dataframe tbody tr th {\n",
       "        vertical-align: top;\n",
       "    }\n",
       "\n",
       "    .dataframe thead th {\n",
       "        text-align: right;\n",
       "    }\n",
       "</style>\n",
       "<table border=\"1\" class=\"dataframe\">\n",
       "  <thead>\n",
       "    <tr style=\"text-align: right;\">\n",
       "      <th></th>\n",
       "      <th>COVID-19 Deaths</th>\n",
       "      <th>Total Deaths</th>\n",
       "      <th>Pneumonia Deaths</th>\n",
       "      <th>Pneumonia and COVID-19 Deaths</th>\n",
       "      <th>Influenza Deaths</th>\n",
       "      <th>Pneumonia, Influenza, or COVID-19 Deaths</th>\n",
       "    </tr>\n",
       "    <tr>\n",
       "      <th>State</th>\n",
       "      <th></th>\n",
       "      <th></th>\n",
       "      <th></th>\n",
       "      <th></th>\n",
       "      <th></th>\n",
       "      <th></th>\n",
       "    </tr>\n",
       "  </thead>\n",
       "  <tbody>\n",
       "    <tr>\n",
       "      <th>United States</th>\n",
       "      <td>1135308.0</td>\n",
       "      <td>11505885.0</td>\n",
       "      <td>1119592.0</td>\n",
       "      <td>564905.0</td>\n",
       "      <td>21867.0</td>\n",
       "      <td>1709403.0</td>\n",
       "    </tr>\n",
       "  </tbody>\n",
       "</table>\n",
       "</div>"
      ],
      "text/plain": [
       "               COVID-19 Deaths  Total Deaths  Pneumonia Deaths  \\\n",
       "State                                                            \n",
       "United States        1135308.0    11505885.0         1119592.0   \n",
       "\n",
       "               Pneumonia and COVID-19 Deaths  Influenza Deaths  \\\n",
       "State                                                            \n",
       "United States                       564905.0           21867.0   \n",
       "\n",
       "               Pneumonia, Influenza, or COVID-19 Deaths  \n",
       "State                                                    \n",
       "United States                                 1709403.0  "
      ]
     },
     "execution_count": 6,
     "metadata": {},
     "output_type": "execute_result"
    }
   ],
   "source": [
    "# Set index\n",
    "cause_df.set_index('State', inplace=True)\n",
    "\n",
    "cause_df"
   ]
  },
  {
   "cell_type": "code",
   "execution_count": 7,
   "id": "32f0a42a",
   "metadata": {},
   "outputs": [
    {
     "data": {
      "text/plain": [
       "COVID-19 Deaths                             float64\n",
       "Total Deaths                                float64\n",
       "Pneumonia Deaths                            float64\n",
       "Pneumonia and COVID-19 Deaths               float64\n",
       "Influenza Deaths                            float64\n",
       "Pneumonia, Influenza, or COVID-19 Deaths    float64\n",
       "dtype: object"
      ]
     },
     "execution_count": 7,
     "metadata": {},
     "output_type": "execute_result"
    }
   ],
   "source": [
    "# Check datatypes\n",
    "cause_df.dtypes"
   ]
  },
  {
   "cell_type": "code",
   "execution_count": 10,
   "id": "6f2f0031",
   "metadata": {},
   "outputs": [],
   "source": [
    "cause_df.to_csv('C:/Users/Mason/Project-3/Death DataFrames/Cause_of_death_All_Years_Cleaned.csv', index=True, encoding='ISO-8859-1')"
   ]
  },
  {
   "cell_type": "code",
   "execution_count": null,
   "id": "62ecdb03",
   "metadata": {},
   "outputs": [],
   "source": []
  }
 ],
 "metadata": {
  "kernelspec": {
   "display_name": "Python 3 (ipykernel)",
   "language": "python",
   "name": "python3"
  },
  "language_info": {
   "codemirror_mode": {
    "name": "ipython",
    "version": 3
   },
   "file_extension": ".py",
   "mimetype": "text/x-python",
   "name": "python",
   "nbconvert_exporter": "python",
   "pygments_lexer": "ipython3",
   "version": "3.10.9"
  }
 },
 "nbformat": 4,
 "nbformat_minor": 5
}
