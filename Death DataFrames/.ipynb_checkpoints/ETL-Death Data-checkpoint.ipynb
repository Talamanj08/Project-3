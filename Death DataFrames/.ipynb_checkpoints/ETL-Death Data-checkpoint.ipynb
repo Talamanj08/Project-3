{
 "cells": [
  {
   "cell_type": "code",
   "execution_count": 1,
   "id": "e85bddb9",
   "metadata": {},
   "outputs": [],
   "source": [
    "import pandas as pd\n",
    "from pathlib import Path"
   ]
  },
  {
   "cell_type": "code",
   "execution_count": 2,
   "id": "0ad05c6c",
   "metadata": {},
   "outputs": [],
   "source": [
    "# Set path\n",
    "file_path = Path('C:/Users/Mason/Project-3/Provisional_COVID-19_Deaths_by_Sex_and_Age.csv')"
   ]
  },
  {
   "cell_type": "code",
   "execution_count": 3,
   "id": "825ed082",
   "metadata": {},
   "outputs": [],
   "source": [
    "# Read csv\n",
    "deaths_df =pd.read_csv(file_path, encoding=\"ISO-8859-1\") "
   ]
  },
  {
   "cell_type": "code",
   "execution_count": 4,
   "id": "9c83f247",
   "metadata": {},
   "outputs": [
    {
     "data": {
      "text/html": [
       "<div>\n",
       "<style scoped>\n",
       "    .dataframe tbody tr th:only-of-type {\n",
       "        vertical-align: middle;\n",
       "    }\n",
       "\n",
       "    .dataframe tbody tr th {\n",
       "        vertical-align: top;\n",
       "    }\n",
       "\n",
       "    .dataframe thead th {\n",
       "        text-align: right;\n",
       "    }\n",
       "</style>\n",
       "<table border=\"1\" class=\"dataframe\">\n",
       "  <thead>\n",
       "    <tr style=\"text-align: right;\">\n",
       "      <th></th>\n",
       "      <th>Data As Of</th>\n",
       "      <th>Start Date</th>\n",
       "      <th>End Date</th>\n",
       "      <th>Group</th>\n",
       "      <th>Year</th>\n",
       "      <th>Month</th>\n",
       "      <th>State</th>\n",
       "      <th>Sex</th>\n",
       "      <th>Age Group</th>\n",
       "      <th>COVID-19 Deaths</th>\n",
       "      <th>Total Deaths</th>\n",
       "      <th>Pneumonia Deaths</th>\n",
       "      <th>Pneumonia and COVID-19 Deaths</th>\n",
       "      <th>Influenza Deaths</th>\n",
       "      <th>Pneumonia, Influenza, or COVID-19 Deaths</th>\n",
       "      <th>Footnote</th>\n",
       "    </tr>\n",
       "  </thead>\n",
       "  <tbody>\n",
       "    <tr>\n",
       "      <th>0</th>\n",
       "      <td>6/21/2023</td>\n",
       "      <td>1/1/2020</td>\n",
       "      <td>6/17/2023</td>\n",
       "      <td>By Total</td>\n",
       "      <td>NaN</td>\n",
       "      <td>NaN</td>\n",
       "      <td>United States</td>\n",
       "      <td>All Sexes</td>\n",
       "      <td>All Ages</td>\n",
       "      <td>1135308.0</td>\n",
       "      <td>11505885.0</td>\n",
       "      <td>1119592.0</td>\n",
       "      <td>564905.0</td>\n",
       "      <td>21867.0</td>\n",
       "      <td>1709403.0</td>\n",
       "      <td>NaN</td>\n",
       "    </tr>\n",
       "    <tr>\n",
       "      <th>1</th>\n",
       "      <td>6/21/2023</td>\n",
       "      <td>1/1/2020</td>\n",
       "      <td>6/17/2023</td>\n",
       "      <td>By Total</td>\n",
       "      <td>NaN</td>\n",
       "      <td>NaN</td>\n",
       "      <td>United States</td>\n",
       "      <td>All Sexes</td>\n",
       "      <td>Under 1 year</td>\n",
       "      <td>497.0</td>\n",
       "      <td>67870.0</td>\n",
       "      <td>965.0</td>\n",
       "      <td>88.0</td>\n",
       "      <td>63.0</td>\n",
       "      <td>1435.0</td>\n",
       "      <td>NaN</td>\n",
       "    </tr>\n",
       "    <tr>\n",
       "      <th>2</th>\n",
       "      <td>6/21/2023</td>\n",
       "      <td>1/1/2020</td>\n",
       "      <td>6/17/2023</td>\n",
       "      <td>By Total</td>\n",
       "      <td>NaN</td>\n",
       "      <td>NaN</td>\n",
       "      <td>United States</td>\n",
       "      <td>All Sexes</td>\n",
       "      <td>0-17 years</td>\n",
       "      <td>1647.0</td>\n",
       "      <td>120949.0</td>\n",
       "      <td>2719.0</td>\n",
       "      <td>411.0</td>\n",
       "      <td>493.0</td>\n",
       "      <td>4423.0</td>\n",
       "      <td>NaN</td>\n",
       "    </tr>\n",
       "    <tr>\n",
       "      <th>3</th>\n",
       "      <td>6/21/2023</td>\n",
       "      <td>1/1/2020</td>\n",
       "      <td>6/17/2023</td>\n",
       "      <td>By Total</td>\n",
       "      <td>NaN</td>\n",
       "      <td>NaN</td>\n",
       "      <td>United States</td>\n",
       "      <td>All Sexes</td>\n",
       "      <td>1-4 years</td>\n",
       "      <td>274.0</td>\n",
       "      <td>13102.0</td>\n",
       "      <td>625.0</td>\n",
       "      <td>64.0</td>\n",
       "      <td>171.0</td>\n",
       "      <td>997.0</td>\n",
       "      <td>NaN</td>\n",
       "    </tr>\n",
       "    <tr>\n",
       "      <th>4</th>\n",
       "      <td>6/21/2023</td>\n",
       "      <td>1/1/2020</td>\n",
       "      <td>6/17/2023</td>\n",
       "      <td>By Total</td>\n",
       "      <td>NaN</td>\n",
       "      <td>NaN</td>\n",
       "      <td>United States</td>\n",
       "      <td>All Sexes</td>\n",
       "      <td>5-14 years</td>\n",
       "      <td>496.0</td>\n",
       "      <td>20321.0</td>\n",
       "      <td>761.0</td>\n",
       "      <td>140.0</td>\n",
       "      <td>211.0</td>\n",
       "      <td>1315.0</td>\n",
       "      <td>NaN</td>\n",
       "    </tr>\n",
       "  </tbody>\n",
       "</table>\n",
       "</div>"
      ],
      "text/plain": [
       "  Data As Of Start Date   End Date     Group  Year  Month          State  \\\n",
       "0  6/21/2023   1/1/2020  6/17/2023  By Total   NaN    NaN  United States   \n",
       "1  6/21/2023   1/1/2020  6/17/2023  By Total   NaN    NaN  United States   \n",
       "2  6/21/2023   1/1/2020  6/17/2023  By Total   NaN    NaN  United States   \n",
       "3  6/21/2023   1/1/2020  6/17/2023  By Total   NaN    NaN  United States   \n",
       "4  6/21/2023   1/1/2020  6/17/2023  By Total   NaN    NaN  United States   \n",
       "\n",
       "         Sex     Age Group  COVID-19 Deaths  Total Deaths  Pneumonia Deaths  \\\n",
       "0  All Sexes      All Ages        1135308.0    11505885.0         1119592.0   \n",
       "1  All Sexes  Under 1 year            497.0       67870.0             965.0   \n",
       "2  All Sexes    0-17 years           1647.0      120949.0            2719.0   \n",
       "3  All Sexes     1-4 years            274.0       13102.0             625.0   \n",
       "4  All Sexes    5-14 years            496.0       20321.0             761.0   \n",
       "\n",
       "   Pneumonia and COVID-19 Deaths  Influenza Deaths  \\\n",
       "0                       564905.0           21867.0   \n",
       "1                           88.0              63.0   \n",
       "2                          411.0             493.0   \n",
       "3                           64.0             171.0   \n",
       "4                          140.0             211.0   \n",
       "\n",
       "   Pneumonia, Influenza, or COVID-19 Deaths Footnote  \n",
       "0                                 1709403.0      NaN  \n",
       "1                                    1435.0      NaN  \n",
       "2                                    4423.0      NaN  \n",
       "3                                     997.0      NaN  \n",
       "4                                    1315.0      NaN  "
      ]
     },
     "execution_count": 4,
     "metadata": {},
     "output_type": "execute_result"
    }
   ],
   "source": [
    "deaths_df.head()"
   ]
  },
  {
   "cell_type": "code",
   "execution_count": 5,
   "id": "772cfe82",
   "metadata": {},
   "outputs": [],
   "source": [
    "# Delete columns convert datetime columns and filter unwanted states\n",
    "delete_columns = ['Data As Of','Start Date','End Date','Month','Footnote']\n",
    "deaths_df = deaths_df.drop(columns=delete_columns)"
   ]
  },
  {
   "cell_type": "code",
   "execution_count": 7,
   "id": "da1a643a",
   "metadata": {},
   "outputs": [],
   "source": [
    "deaths_df.to_csv('C:/Users/Mason/Project-3/Death DataFrames/Cause_of_death_All_Years.csv', index=False, encoding='ISO-8859-1')"
   ]
  },
  {
   "cell_type": "code",
   "execution_count": 6,
   "id": "635d2dee",
   "metadata": {},
   "outputs": [
    {
     "data": {
      "text/html": [
       "<div>\n",
       "<style scoped>\n",
       "    .dataframe tbody tr th:only-of-type {\n",
       "        vertical-align: middle;\n",
       "    }\n",
       "\n",
       "    .dataframe tbody tr th {\n",
       "        vertical-align: top;\n",
       "    }\n",
       "\n",
       "    .dataframe thead th {\n",
       "        text-align: right;\n",
       "    }\n",
       "</style>\n",
       "<table border=\"1\" class=\"dataframe\">\n",
       "  <thead>\n",
       "    <tr style=\"text-align: right;\">\n",
       "      <th></th>\n",
       "      <th>Group</th>\n",
       "      <th>Year</th>\n",
       "      <th>State</th>\n",
       "      <th>Sex</th>\n",
       "      <th>Age Group</th>\n",
       "      <th>COVID-19 Deaths</th>\n",
       "      <th>Total Deaths</th>\n",
       "      <th>Pneumonia Deaths</th>\n",
       "      <th>Pneumonia and COVID-19 Deaths</th>\n",
       "      <th>Influenza Deaths</th>\n",
       "      <th>Pneumonia, Influenza, or COVID-19 Deaths</th>\n",
       "    </tr>\n",
       "  </thead>\n",
       "  <tbody>\n",
       "    <tr>\n",
       "      <th>0</th>\n",
       "      <td>By Total</td>\n",
       "      <td>NaN</td>\n",
       "      <td>United States</td>\n",
       "      <td>All Sexes</td>\n",
       "      <td>All Ages</td>\n",
       "      <td>1135308.0</td>\n",
       "      <td>11505885.0</td>\n",
       "      <td>1119592.0</td>\n",
       "      <td>564905.0</td>\n",
       "      <td>21867.0</td>\n",
       "      <td>1709403.0</td>\n",
       "    </tr>\n",
       "    <tr>\n",
       "      <th>1</th>\n",
       "      <td>By Total</td>\n",
       "      <td>NaN</td>\n",
       "      <td>United States</td>\n",
       "      <td>All Sexes</td>\n",
       "      <td>Under 1 year</td>\n",
       "      <td>497.0</td>\n",
       "      <td>67870.0</td>\n",
       "      <td>965.0</td>\n",
       "      <td>88.0</td>\n",
       "      <td>63.0</td>\n",
       "      <td>1435.0</td>\n",
       "    </tr>\n",
       "    <tr>\n",
       "      <th>2</th>\n",
       "      <td>By Total</td>\n",
       "      <td>NaN</td>\n",
       "      <td>United States</td>\n",
       "      <td>All Sexes</td>\n",
       "      <td>0-17 years</td>\n",
       "      <td>1647.0</td>\n",
       "      <td>120949.0</td>\n",
       "      <td>2719.0</td>\n",
       "      <td>411.0</td>\n",
       "      <td>493.0</td>\n",
       "      <td>4423.0</td>\n",
       "    </tr>\n",
       "    <tr>\n",
       "      <th>3</th>\n",
       "      <td>By Total</td>\n",
       "      <td>NaN</td>\n",
       "      <td>United States</td>\n",
       "      <td>All Sexes</td>\n",
       "      <td>1-4 years</td>\n",
       "      <td>274.0</td>\n",
       "      <td>13102.0</td>\n",
       "      <td>625.0</td>\n",
       "      <td>64.0</td>\n",
       "      <td>171.0</td>\n",
       "      <td>997.0</td>\n",
       "    </tr>\n",
       "    <tr>\n",
       "      <th>4</th>\n",
       "      <td>By Total</td>\n",
       "      <td>NaN</td>\n",
       "      <td>United States</td>\n",
       "      <td>All Sexes</td>\n",
       "      <td>5-14 years</td>\n",
       "      <td>496.0</td>\n",
       "      <td>20321.0</td>\n",
       "      <td>761.0</td>\n",
       "      <td>140.0</td>\n",
       "      <td>211.0</td>\n",
       "      <td>1315.0</td>\n",
       "    </tr>\n",
       "  </tbody>\n",
       "</table>\n",
       "</div>"
      ],
      "text/plain": [
       "      Group  Year          State        Sex     Age Group  COVID-19 Deaths  \\\n",
       "0  By Total   NaN  United States  All Sexes      All Ages        1135308.0   \n",
       "1  By Total   NaN  United States  All Sexes  Under 1 year            497.0   \n",
       "2  By Total   NaN  United States  All Sexes    0-17 years           1647.0   \n",
       "3  By Total   NaN  United States  All Sexes     1-4 years            274.0   \n",
       "4  By Total   NaN  United States  All Sexes    5-14 years            496.0   \n",
       "\n",
       "   Total Deaths  Pneumonia Deaths  Pneumonia and COVID-19 Deaths  \\\n",
       "0    11505885.0         1119592.0                       564905.0   \n",
       "1       67870.0             965.0                           88.0   \n",
       "2      120949.0            2719.0                          411.0   \n",
       "3       13102.0             625.0                           64.0   \n",
       "4       20321.0             761.0                          140.0   \n",
       "\n",
       "   Influenza Deaths  Pneumonia, Influenza, or COVID-19 Deaths  \n",
       "0           21867.0                                 1709403.0  \n",
       "1              63.0                                    1435.0  \n",
       "2             493.0                                    4423.0  \n",
       "3             171.0                                     997.0  \n",
       "4             211.0                                    1315.0  "
      ]
     },
     "execution_count": 6,
     "metadata": {},
     "output_type": "execute_result"
    }
   ],
   "source": [
    "deaths_df=deaths_df[~deaths_df['State'].isin(['United States', 'Alaska', 'Hawaii', 'Puerto Rico',\n",
    "                                              'District of Columbia', 'New York City'])]\n",
    "\n",
    "deaths_df.head()"
   ]
  },
  {
   "cell_type": "code",
   "execution_count": null,
   "id": "3f1d83c2",
   "metadata": {},
   "outputs": [],
   "source": [
    "states = deaths_df['State'].unique()\n",
    "len(states)"
   ]
  },
  {
   "cell_type": "code",
   "execution_count": null,
   "id": "33c7d777",
   "metadata": {},
   "outputs": [],
   "source": [
    "deaths_df.dtypes"
   ]
  },
  {
   "cell_type": "code",
   "execution_count": null,
   "id": "b84f6763",
   "metadata": {},
   "outputs": [],
   "source": [
    "# Creaty death by state df\n",
    "deaths_byState_df = deaths_df[(deaths_df['Group'] == 'By Year') \n",
    "                              & (deaths_df['Sex'] == 'All Sexes') \n",
    "                              & (deaths_df['Age Group'] == 'All Ages')]\n",
    "d_columns = ['Group','Sex','Age Group']\n",
    "deaths_byState_df = deaths_byState_df.drop(columns=d_columns)\n",
    "deaths_byState_df['Year'] = pd.to_datetime(deaths_byState_df['Year'], format='%Y').dt.year\n",
    "deaths_byState_df = deaths_byState_df[deaths_byState_df['Year'] != 2020]\n",
    "deaths_byState_df"
   ]
  },
  {
   "cell_type": "code",
   "execution_count": null,
   "id": "baca495b",
   "metadata": {},
   "outputs": [],
   "source": [
    "# Create deaths by sex df\n",
    "deaths_bySex_df = deaths_df[(deaths_df['Group'] == 'By Year') \n",
    "                            & (deaths_df['Sex'].isin(['Male', 'Female'])) \n",
    "                            & (deaths_df['Age Group'] == 'All Ages')]\n",
    "d2_columns = ['Group','Age Group']\n",
    "deaths_bySex_df = deaths_bySex_df.drop(columns=d2_columns)\n",
    "deaths_bySex_df['Year'] = pd.to_datetime(deaths_bySex_df['Year'], format='%Y').dt.year\n",
    "deaths_bySex_df = deaths_bySex_df[deaths_bySex_df['Year'] != 2020]\n",
    "deaths_bySex_df"
   ]
  },
  {
   "cell_type": "code",
   "execution_count": null,
   "id": "4e0d7fb3",
   "metadata": {},
   "outputs": [],
   "source": [
    "# Creat Death by age df\n",
    "deaths_byAge_df = deaths_df\n",
    "deaths_byAge_df = deaths_byAge_df[(deaths_df['Group'] == 'By Year') \n",
    "                                  & (deaths_df['Sex']=='All Sexes') \n",
    "                                  & (deaths_df['Age Group'].isin(['0-17 years','18-29 years',\n",
    "                                                                  '30-39 years','40-49 years',\n",
    "                                                                  '50-64 years','65-74 years',\n",
    "                                                                  '75-84 years','85 years and over']))]\n",
    "deaths_byAge_df.fillna(0, inplace=True)\n",
    "# Reset Age Group column to new age goups\n",
    "deaths_byAge_df['Age Group'] = deaths_df['Age Group'].replace({'30-39 years': '30-49 years',\n",
    "                                               '40-49 years': '30-49 years',\n",
    "                                               '50-64 years': '50-74 years',\n",
    "                                               '65-74 years': '50-74 years',\n",
    "                                               '75-84 years': '75+ years',\n",
    "                                               '85 years and over': '75+ years'})\n",
    "# Drop Columns rename startdate column and chand date to year only \n",
    "d3_columns = ['Group','Sex']\n",
    "deaths_byAge_df = deaths_byAge_df.drop(columns=d3_columns)\n",
    "deaths_byAge_df['Year'] = pd.to_datetime(deaths_byAge_df['Year'], format='%Y').dt.year\n",
    "deaths_byAge_df = deaths_byAge_df[deaths_byAge_df['Year'] != 2020]\n",
    "deaths_byAge_df.head()"
   ]
  },
  {
   "cell_type": "code",
   "execution_count": null,
   "id": "2d23c9fa",
   "metadata": {},
   "outputs": [],
   "source": [
    "deaths_byStateYear_df= deaths_byState_df.groupby(['Year', 'State']).sum()\n",
    "deaths_byStateYear_df"
   ]
  },
  {
   "cell_type": "code",
   "execution_count": null,
   "id": "fb3ad2cb",
   "metadata": {},
   "outputs": [],
   "source": [
    "deaths_bySexYear_df=deaths_bySex_df.groupby(['Year', 'State', 'Sex']).sum()\n",
    "deaths_bySexYear_df"
   ]
  },
  {
   "cell_type": "code",
   "execution_count": null,
   "id": "61ff33c4",
   "metadata": {},
   "outputs": [],
   "source": [
    "deaths_byAgeYear_df = deaths_byAge_df.groupby(['Year', 'State', 'Age Group']).sum()\n",
    "deaths_byAgeYear_df.head()"
   ]
  },
  {
   "cell_type": "code",
   "execution_count": null,
   "id": "2a37cfe1",
   "metadata": {},
   "outputs": [],
   "source": [
    "Death_byState_2021 = deaths_byStateYear_df.groupby(level='Year').get_group(2021)\n",
    "Death_byState_2022 = deaths_byStateYear_df.groupby(level='Year').get_group(2022)\n",
    "Death_byState_2023 = deaths_byStateYear_df.groupby(level='Year').get_group(2023)\n"
   ]
  },
  {
   "cell_type": "code",
   "execution_count": null,
   "id": "b9710089",
   "metadata": {},
   "outputs": [],
   "source": [
    "Death_byState_2021.head()"
   ]
  },
  {
   "cell_type": "code",
   "execution_count": null,
   "id": "638464e9",
   "metadata": {},
   "outputs": [],
   "source": [
    "Death_byState_2022.head()"
   ]
  },
  {
   "cell_type": "code",
   "execution_count": null,
   "id": "d62bd21d",
   "metadata": {},
   "outputs": [],
   "source": [
    "Death_byState_2023.head()"
   ]
  },
  {
   "cell_type": "code",
   "execution_count": null,
   "id": "046b7683",
   "metadata": {},
   "outputs": [],
   "source": [
    "Death_bySex_2021 = deaths_bySexYear_df.groupby(level='Year').get_group(2021)\n",
    "Death_bySex_2022 = deaths_bySexYear_df.groupby(level='Year').get_group(2022)\n",
    "Death_bySex_2023 = deaths_bySexYear_df.groupby(level='Year').get_group(2023)\n"
   ]
  },
  {
   "cell_type": "code",
   "execution_count": null,
   "id": "27eec3fc",
   "metadata": {},
   "outputs": [],
   "source": [
    "Death_bySex_2021.head()"
   ]
  },
  {
   "cell_type": "code",
   "execution_count": null,
   "id": "7bc9e90d",
   "metadata": {},
   "outputs": [],
   "source": [
    "Death_bySex_2022.head()"
   ]
  },
  {
   "cell_type": "code",
   "execution_count": null,
   "id": "6dd3408a",
   "metadata": {},
   "outputs": [],
   "source": [
    "Death_bySex_2023.head()"
   ]
  },
  {
   "cell_type": "code",
   "execution_count": null,
   "id": "c16c7d04",
   "metadata": {},
   "outputs": [],
   "source": [
    "Death_byAge_2021 = deaths_byAgeYear_df.groupby(level='Year').get_group(2021)\n",
    "Death_byAge_2022 = deaths_byAgeYear_df.groupby(level='Year').get_group(2022)\n",
    "Death_byAge_2023 = deaths_byAgeYear_df.groupby(level='Year').get_group(2023)"
   ]
  },
  {
   "cell_type": "code",
   "execution_count": null,
   "id": "22598a96",
   "metadata": {},
   "outputs": [],
   "source": [
    "Death_byAge_2021.head()"
   ]
  },
  {
   "cell_type": "code",
   "execution_count": null,
   "id": "62200c53",
   "metadata": {},
   "outputs": [],
   "source": [
    "Death_byAge_2022.head()"
   ]
  },
  {
   "cell_type": "code",
   "execution_count": null,
   "id": "75e58f3c",
   "metadata": {
    "scrolled": true
   },
   "outputs": [],
   "source": [
    "Death_byAge_2023.head()"
   ]
  },
  {
   "cell_type": "code",
   "execution_count": null,
   "id": "d866b53b",
   "metadata": {},
   "outputs": [],
   "source": [
    "deaths_byStateYear_df.to_csv('C:/Users/Owner/Documents/Data Boot Camp/Projects/Project 3/Death_byState_ALLYears.csv', index=False, encoding='ISO-8859-1')\n",
    "deaths_bySexYear_df.to_csv('C:/Users/Owner/Documents/Data Boot Camp/Projects/Project 3/Death_bySex_ALLYears.csv', index=False, encoding='ISO-8859-1')\n",
    "deaths_byAgeYear_df.to_csv('C:/Users/Owner/Documents/Data Boot Camp/Projects/Project 3/Death_byAge_ALLYears.csv', index=False, encoding='ISO-8859-1')\n",
    "Death_byState_2021.to_csv('C:/Users/Owner/Documents/Data Boot Camp/Projects/Project 3/Death_byState_2021.csv', index=False, encoding='ISO-8859-1')\n",
    "Death_byState_2022.to_csv('C:/Users/Owner/Documents/Data Boot Camp/Projects/Project 3/Death_byState_2022.csv', index=False, encoding='ISO-8859-1')\n",
    "Death_byState_2023.to_csv('C:/Users/Owner/Documents/Data Boot Camp/Projects/Project 3/Death_byState_2023.csv', index=False, encoding='ISO-8859-1')\n",
    "Death_bySex_2021.to_csv('C:/Users/Owner/Documents/Data Boot Camp/Projects/Project 3/Death_bySex_2021.csv', index=False, encoding='ISO-8859-1')\n",
    "Death_bySex_2022.to_csv('C:/Users/Owner/Documents/Data Boot Camp/Projects/Project 3/Death_bySex_2022.csv', index=False, encoding='ISO-8859-1')\n",
    "Death_bySex_2023.to_csv('C:/Users/Owner/Documents/Data Boot Camp/Projects/Project 3/Death_bySex_2023.csv', index=False, encoding='ISO-8859-1')\n",
    "Death_byAge_2021.to_csv('C:/Users/Owner/Documents/Data Boot Camp/Projects/Project 3/Death_byAge_2021.csv', index=False, encoding='ISO-8859-1')\n",
    "Death_byAge_2022.to_csv('C:/Users/Owner/Documents/Data Boot Camp/Projects/Project 3/Death_byAge_2022.csv', index=False, encoding='ISO-8859-1')\n",
    "Death_byAge_2023.to_csv('C:/Users/Owner/Documents/Data Boot Camp/Projects/Project 3/Death_byAge_2023.csv', index=False, encoding='ISO-8859-1')\n"
   ]
  },
  {
   "cell_type": "code",
   "execution_count": null,
   "id": "c8c9b791",
   "metadata": {},
   "outputs": [],
   "source": []
  },
  {
   "cell_type": "code",
   "execution_count": null,
   "id": "a23b4e93",
   "metadata": {},
   "outputs": [],
   "source": []
  }
 ],
 "metadata": {
  "kernelspec": {
   "display_name": "Python 3 (ipykernel)",
   "language": "python",
   "name": "python3"
  },
  "language_info": {
   "codemirror_mode": {
    "name": "ipython",
    "version": 3
   },
   "file_extension": ".py",
   "mimetype": "text/x-python",
   "name": "python",
   "nbconvert_exporter": "python",
   "pygments_lexer": "ipython3",
   "version": "3.10.9"
  }
 },
 "nbformat": 4,
 "nbformat_minor": 5
}
